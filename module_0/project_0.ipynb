{
 "cells": [
  {
   "cell_type": "code",
   "execution_count": 1,
   "metadata": {},
   "outputs": [],
   "source": [
    "import numpy as np"
   ]
  },
  {
   "cell_type": "code",
   "execution_count": 2,
   "metadata": {},
   "outputs": [],
   "source": [
    "def guessnumber():\n",
    "    # Данная функция угадывает число загаданное компьтером от 1 до 100\n",
    "    number = np.random.randint(1,101)\n",
    "    counter = 0\n",
    "    predict = 50\n",
    "    # Для уменьшения количества попыток я решил уменьшить диапозон в 2 раза\n",
    "    while True:\n",
    "        if predict > number: # Основное условие где мы проверяем большели загаданное число 50\n",
    "            counter += 1\n",
    "            predict -= 10\n",
    "            if predict < number: # В этой части кода мы сокращаем его на 10\n",
    "                counter += 1 \n",
    "                for numbers in range(1,11): # После того как диапозон сузится до 10 мы вычисляем по одному\n",
    "                    if predict + numbers == number:\n",
    "                        counter += 1\n",
    "                        return(counter)\n",
    "                        break\n",
    "                    else:\n",
    "                        counter += 1\n",
    "                break\n",
    "            elif predict == number: # Если число кратно 10 то мы проверяем это число здесь\n",
    "                counter +=1\n",
    "                return(counter)\n",
    "                break\n",
    "            else:\n",
    "                counter += 1\n",
    "                predict -= 10\n",
    "        elif predict == number:\n",
    "            counter += 1 \n",
    "            return(counter)\n",
    "            break\n",
    "        else: # Если загаданное число больше 50 мы добавляем 50\n",
    "            predict += 50\n",
    "            counter += 1 \n",
    "        "
   ]
  }
 ],
 "metadata": {
  "kernelspec": {
   "display_name": "Python 3",
   "language": "python",
   "name": "python3"
  },
  "language_info": {
   "codemirror_mode": {
    "name": "ipython",
    "version": 3
   },
   "file_extension": ".py",
   "mimetype": "text/x-python",
   "name": "python",
   "nbconvert_exporter": "python",
   "pygments_lexer": "ipython3",
   "version": "3.8.5"
  }
 },
 "nbformat": 4,
 "nbformat_minor": 4
}
